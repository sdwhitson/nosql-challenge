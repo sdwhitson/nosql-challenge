{
 "cells": [
  {
   "cell_type": "markdown",
   "id": "9a57c4c6",
   "metadata": {},
   "source": [
    "# Eat Safe, Love"
   ]
  },
  {
   "cell_type": "markdown",
   "id": "064ef857",
   "metadata": {},
   "source": [
    "## Notebook Set Up"
   ]
  },
  {
   "cell_type": "code",
   "execution_count": 1,
   "id": "3ecdd008",
   "metadata": {},
   "outputs": [],
   "source": [
    "# Import dependencies\n",
    "from pymongo import MongoClient\n",
    "from pprint import pprint\n",
    "import json\n",
    "import pandas as pd\n",
    "from pandas import json_normalize"
   ]
  },
  {
   "cell_type": "code",
   "execution_count": 2,
   "id": "59390c4a",
   "metadata": {},
   "outputs": [],
   "source": [
    "# load data from a json file\n",
    "with open('Resources/establishments.json') as f:\n",
    "    data = json.load(f)\n",
    "\n",
    "# Create an instance of MongoClient\n",
    "client = MongoClient('localhost', 27017)"
   ]
  },
  {
   "cell_type": "code",
   "execution_count": 3,
   "id": "71e373c1",
   "metadata": {},
   "outputs": [],
   "source": [
    "# assign the uk_food database to a variable name\n",
    "db = client['uk_food']\n"
   ]
  },
  {
   "cell_type": "code",
   "execution_count": 4,
   "id": "18ab463c",
   "metadata": {},
   "outputs": [
    {
     "name": "stdout",
     "output_type": "stream",
     "text": [
      "['establishments']\n"
     ]
    }
   ],
   "source": [
    "# review the collections in our new database\n",
    "print(db.list_collection_names())\n"
   ]
  },
  {
   "cell_type": "code",
   "execution_count": 5,
   "id": "11c9f11b",
   "metadata": {},
   "outputs": [],
   "source": [
    "# assign the collection to a variable\n",
    "establishments = db['establishments']\n"
   ]
  },
  {
   "cell_type": "markdown",
   "id": "d5671434",
   "metadata": {},
   "source": [
    "## Part 3: Exploratory Analysis\n",
    "Unless otherwise stated, for each question: \n",
    "* Use `count_documents` to display the number of documents contained in the result.\n",
    "* Display the first document in the results using `pprint`.\n",
    "* Convert the result to a Pandas DataFrame, print the number of rows in the DataFrame, and display the first 10 rows."
   ]
  },
  {
   "cell_type": "markdown",
   "id": "314bd884",
   "metadata": {},
   "source": [
    "### 1. Which establishments have a hygiene score equal to 20?"
   ]
  },
  {
   "cell_type": "code",
   "execution_count": 13,
   "id": "c2da7648",
   "metadata": {},
   "outputs": [
    {
     "name": "stdout",
     "output_type": "stream",
     "text": [
      "{'AddressLine1': '5-6 Southfields Road',\n",
      " 'AddressLine2': 'Eastbourne',\n",
      " 'AddressLine3': 'East Sussex',\n",
      " 'AddressLine4': '',\n",
      " 'BusinessName': 'The Chase Rest Home',\n",
      " 'BusinessType': 'Caring Premises',\n",
      " 'BusinessTypeID': 5,\n",
      " 'ChangesByServerID': 0,\n",
      " 'Distance': 4613.888288172291,\n",
      " 'FHRSID': 110681,\n",
      " 'LocalAuthorityBusinessID': '4029',\n",
      " 'LocalAuthorityCode': '102',\n",
      " 'LocalAuthorityEmailAddress': 'Customerfirst@eastbourne.gov.uk',\n",
      " 'LocalAuthorityName': 'Eastbourne',\n",
      " 'LocalAuthorityWebSite': 'http://www.eastbourne.gov.uk/foodratings',\n",
      " 'NewRatingPending': False,\n",
      " 'Phone': '',\n",
      " 'PostCode': 'BN21 1BU',\n",
      " 'RatingDate': '2021-09-23T00:00:00',\n",
      " 'RatingKey': 'fhrs_0_en-gb',\n",
      " 'RatingValue': 0,\n",
      " 'RightToReply': '',\n",
      " 'SchemeType': 'FHRS',\n",
      " '_id': ObjectId('64cc3541f8e08bc6f06b260d'),\n",
      " 'geocode': {'latitude': Decimal128('50.769705'),\n",
      "             'longitude': Decimal128('0.27694')},\n",
      " 'links': [{'href': 'https://api.ratings.food.gov.uk/establishments/110681',\n",
      "            'rel': 'self'}],\n",
      " 'meta': {'dataSource': None,\n",
      "          'extractDate': '0001-01-01T00:00:00',\n",
      "          'itemCount': 0,\n",
      "          'pageNumber': 0,\n",
      "          'pageSize': 0,\n",
      "          'returncode': None,\n",
      "          'totalCount': 0,\n",
      "          'totalPages': 0},\n",
      " 'scores': {'ConfidenceInManagement': 20, 'Hygiene': 20, 'Structural': 20}}\n"
     ]
    }
   ],
   "source": [
    "\n",
    "# Count the establishments with a hygiene score of 20\n",
    "count_score_20 = establishments.count_documents({\"scores.Hygiene\": 20})\n",
    "\n",
    "# Find the first establishment with a hygiene score of 20\n",
    "first_establishment_20 = establishments.find_one({\"scores.Hygiene\": 20})\n",
    "\n",
    "\n",
    "# Display the first result using pprint\n",
    "pprint(first_establishment_20)\n"
   ]
  },
  {
   "cell_type": "code",
   "execution_count": 15,
   "id": "a6e5cece",
   "metadata": {},
   "outputs": [
    {
     "name": "stdout",
     "output_type": "stream",
     "text": [
      "Number of rows in the DataFrame: 1\n",
      "                        _id  FHRSID  ChangesByServerID  \\\n",
      "0  64cc3541f8e08bc6f06b260d  110681                  0   \n",
      "\n",
      "  LocalAuthorityBusinessID         BusinessName     BusinessType  \\\n",
      "0                     4029  The Chase Rest Home  Caring Premises   \n",
      "\n",
      "   BusinessTypeID          AddressLine1 AddressLine2 AddressLine3  ...  \\\n",
      "0               5  5-6 Southfields Road   Eastbourne  East Sussex  ...   \n",
      "\n",
      "                      LocalAuthorityWebSite       LocalAuthorityEmailAddress  \\\n",
      "0  http://www.eastbourne.gov.uk/foodratings  Customerfirst@eastbourne.gov.uk   \n",
      "\n",
      "                                              scores  SchemeType  \\\n",
      "0  {'Hygiene': 20, 'Structural': 20, 'ConfidenceI...        FHRS   \n",
      "\n",
      "                                         geocode RightToReply     Distance  \\\n",
      "0  {'longitude': 0.27694, 'latitude': 50.769705}               4613.888288   \n",
      "\n",
      "  NewRatingPending                                               meta  \\\n",
      "0            False  {'dataSource': None, 'extractDate': '0001-01-0...   \n",
      "\n",
      "                                               links  \n",
      "0  [{'rel': 'self', 'href': 'https://api.ratings....  \n",
      "\n",
      "[1 rows x 28 columns]\n"
     ]
    }
   ],
   "source": [
    "# Convert the result to a Pandas DataFrame\n",
    "df = pd.DataFrame([first_establishment_20])\n",
    "\n",
    "# Display the number of rows in the DataFrame\n",
    "print(f\"Number of rows in the DataFrame: {df.shape[0]}\")\n",
    "\n",
    "# Display the first 10 rows of the DataFrame\n",
    "print(df.head(10))"
   ]
  },
  {
   "cell_type": "markdown",
   "id": "0ef4395a",
   "metadata": {},
   "source": [
    "### 2. Which establishments in London have a `RatingValue` greater than or equal to 4?"
   ]
  },
  {
   "cell_type": "code",
   "execution_count": 16,
   "id": "93c63829",
   "metadata": {},
   "outputs": [
    {
     "name": "stdout",
     "output_type": "stream",
     "text": [
      "{'AddressLine1': '75 Woolwich Road',\n",
      " 'AddressLine2': 'Abbey Wood',\n",
      " 'AddressLine3': 'London',\n",
      " 'AddressLine4': '',\n",
      " 'BusinessName': 'The Croft Day Nursery',\n",
      " 'BusinessType': 'Caring Premises',\n",
      " 'BusinessTypeID': 5,\n",
      " 'ChangesByServerID': 0,\n",
      " 'Distance': 4645.185333904148,\n",
      " 'FHRSID': 329113,\n",
      " 'LocalAuthorityBusinessID': '03260/0075/0/000',\n",
      " 'LocalAuthorityCode': '503',\n",
      " 'LocalAuthorityEmailAddress': 'food.safety@bexley.gov.uk',\n",
      " 'LocalAuthorityName': 'Bexley',\n",
      " 'LocalAuthorityWebSite': 'http://www.bexley.gov.uk',\n",
      " 'NewRatingPending': False,\n",
      " 'Phone': '',\n",
      " 'PostCode': 'SE2 0DY',\n",
      " 'RatingDate': '2019-09-02T00:00:00',\n",
      " 'RatingKey': 'fhrs_5_en-gb',\n",
      " 'RatingValue': 5,\n",
      " 'RightToReply': '',\n",
      " 'SchemeType': 'FHRS',\n",
      " '_id': ObjectId('64cc3541f8e08bc6f06b75e6'),\n",
      " 'geocode': {'latitude': Decimal128('51.482981'),\n",
      "             'longitude': Decimal128('0.136519')},\n",
      " 'links': [{'href': 'http://api.ratings.food.gov.uk/establishments/329113',\n",
      "            'rel': 'self'}],\n",
      " 'meta': {'dataSource': None,\n",
      "          'extractDate': '0001-01-01T00:00:00',\n",
      "          'itemCount': 0,\n",
      "          'pageNumber': 0,\n",
      "          'pageSize': 0,\n",
      "          'returncode': None,\n",
      "          'totalCount': 0,\n",
      "          'totalPages': 0},\n",
      " 'scores': {'ConfidenceInManagement': 0, 'Hygiene': 0, 'Structural': 0}}\n"
     ]
    }
   ],
   "source": [
    "# Find the establishments with London as the Local Authority and has a RatingValue greater than or equal to 4.\n",
    "search_criteria = {\n",
    "    \"AddressLine3\": \"London\", \n",
    "    \"RatingValue\": {\"$gte\": 4}\n",
    "}\n",
    "\n",
    "# Use count_documents to display the number of documents in the result\n",
    "count_london_establishments = establishments.count_documents(search_criteria)\n",
    "\n",
    "# Display the first document in the results using pprint\n",
    "first_london_establishment = establishments.find_one(search_criteria)\n",
    "pprint(first_london_establishment)"
   ]
  },
  {
   "cell_type": "code",
   "execution_count": 17,
   "id": "07e24ccb",
   "metadata": {},
   "outputs": [
    {
     "name": "stdout",
     "output_type": "stream",
     "text": [
      "                        _id  FHRSID  ChangesByServerID  \\\n",
      "0  64cc3541f8e08bc6f06b75e6  329113                  0   \n",
      "\n",
      "  LocalAuthorityBusinessID           BusinessName     BusinessType  \\\n",
      "0         03260/0075/0/000  The Croft Day Nursery  Caring Premises   \n",
      "\n",
      "   BusinessTypeID      AddressLine1 AddressLine2 AddressLine3  ...  \\\n",
      "0               5  75 Woolwich Road   Abbey Wood       London  ...   \n",
      "\n",
      "      LocalAuthorityWebSite LocalAuthorityEmailAddress  \\\n",
      "0  http://www.bexley.gov.uk  food.safety@bexley.gov.uk   \n",
      "\n",
      "                                              scores  SchemeType  \\\n",
      "0  {'Hygiene': 0, 'Structural': 0, 'ConfidenceInM...        FHRS   \n",
      "\n",
      "                                          geocode RightToReply     Distance  \\\n",
      "0  {'longitude': 0.136519, 'latitude': 51.482981}               4645.185334   \n",
      "\n",
      "  NewRatingPending                                               meta  \\\n",
      "0            False  {'dataSource': None, 'extractDate': '0001-01-0...   \n",
      "\n",
      "                                               links  \n",
      "0  [{'rel': 'self', 'href': 'http://api.ratings.f...  \n",
      "\n",
      "[1 rows x 28 columns]\n"
     ]
    }
   ],
   "source": [
    "# Convert the result to a Pandas DataFrame\n",
    "all_matching_establishments = list(establishments.find(first_london_establishment))\n",
    "\n",
    "# Display the number of rows in the DataFrame\n",
    "\n",
    "df = pd.DataFrame(all_matching_establishments)\n",
    "# Display the first 10 rows of the DataFrame\n",
    "\n",
    "# 3. Display the first 10 rows of the DataFrame\n",
    "print(df.head(10))"
   ]
  },
  {
   "attachments": {},
   "cell_type": "markdown",
   "id": "4e570caf",
   "metadata": {},
   "source": [
    "### 3. What are the top 5 establishments with a `RatingValue` rating value of 5, sorted by lowest hygiene score, nearest to the new restaurant added, \"Penang Flavours\"?"
   ]
  },
  {
   "cell_type": "code",
   "execution_count": 27,
   "id": "7f599f3d",
   "metadata": {},
   "outputs": [
    {
     "name": "stdout",
     "output_type": "stream",
     "text": [
      "Number of establishments found:  0\n"
     ]
    },
    {
     "name": "stderr",
     "output_type": "stream",
     "text": [
      "C:\\Users\\steph\\AppData\\Local\\Temp\\ipykernel_24712\\1725445372.py:17: DeprecationWarning: count is deprecated. Use Collection.count_documents instead.\n",
      "  print(\"Number of establishments found: \", results.count())\n"
     ]
    }
   ],
   "source": [
    "# Search within 0.01 degree on either side of the latitude and longitude.\n",
    "# Rating value must equal 5\n",
    "# Sort by hygiene score\n",
    "\n",
    "degree_search = 0.01\n",
    "latitude = 0.08384000\n",
    "longitude = 51.49014200\n",
    "\n",
    "query = {\n",
    "    \"geocode.latitude\": {\"$gte\": latitude - degree_search, \"$lte\": latitude + degree_search},\n",
    "    \"geocode.longitude\": {\"$gte\": longitude - degree_search, \"$lte\": longitude + degree_search},\n",
    "    \"RatingValue\": 5\n",
    "}\n",
    "results = establishments.find(query).sort(\"scores.Hygiene\")\n",
    "\n",
    "\n",
    "print(\"Number of establishments found: \", results.count())"
   ]
  },
  {
   "cell_type": "code",
   "execution_count": 28,
   "id": "a6ad16f7",
   "metadata": {},
   "outputs": [],
   "source": [
    "# Convert result to Pandas DataFrame\n",
    "df = pd.DataFrame(list(results))"
   ]
  },
  {
   "cell_type": "markdown",
   "id": "67281254",
   "metadata": {},
   "source": [
    "### 4. How many establishments in each Local Authority area have a hygiene score of 0?"
   ]
  },
  {
   "cell_type": "code",
   "execution_count": 30,
   "id": "4eeb227e",
   "metadata": {},
   "outputs": [
    {
     "name": "stdout",
     "output_type": "stream",
     "text": [
      "Number of documents in the result: 56\n",
      "[{'_id': 'Thanet', 'count': 3390}, {'_id': 'Greenwich', 'count': 2646}, {'_id': 'Maidstone', 'count': 2139}, {'_id': 'Newham', 'count': 2133}, {'_id': 'Swale', 'count': 2058}, {'_id': 'Chelmsford', 'count': 2040}, {'_id': 'Medway', 'count': 2016}, {'_id': 'Bexley', 'count': 1821}, {'_id': 'Southend-On-Sea', 'count': 1758}, {'_id': 'Tendring', 'count': 1626}]\n"
     ]
    }
   ],
   "source": [
    "# Create a pipeline that: \n",
    "# 1. Matches establishments with a hygiene score of 0\n",
    "# 2. Groups the matches by Local Authority\n",
    "# 3. Sorts the matches from highest to lowest\n",
    "pipeline = [\n",
    "    {\"$match\": {\"scores.Hygiene\": 0}},\n",
    "    {\"$group\": {\"_id\": \"$LocalAuthorityName\", \"count\": {\"$sum\": 1}}},\n",
    "    {\"$sort\": {\"count\": -1}}\n",
    "]\n",
    "\n",
    "result = list(establishments.aggregate(pipeline))\n",
    "\n",
    "# Print the number of documents in the result\n",
    "print(f\"Number of documents in the result: {len(result)}\")\n",
    "\n",
    "# Print the first 10 results\n",
    "print(result[:10])"
   ]
  },
  {
   "cell_type": "code",
   "execution_count": 32,
   "id": "d8aab364",
   "metadata": {},
   "outputs": [
    {
     "name": "stdout",
     "output_type": "stream",
     "text": [
      "Number of rows in the DataFrame: 56\n",
      "               _id  count\n",
      "0           Thanet   3390\n",
      "1        Greenwich   2646\n",
      "2        Maidstone   2139\n",
      "3           Newham   2133\n",
      "4            Swale   2058\n",
      "5       Chelmsford   2040\n",
      "6           Medway   2016\n",
      "7           Bexley   1821\n",
      "8  Southend-On-Sea   1758\n",
      "9         Tendring   1626\n"
     ]
    }
   ],
   "source": [
    "# Convert the result to a Pandas DataFrame\n",
    "df = pd.DataFrame(result)\n",
    "# Display the number of rows in the DataFrame\n",
    "print(f\"Number of rows in the DataFrame: {df.shape[0]}\")\n",
    "# Display the first 10 rows of the DataFrame\n",
    "print(df.head(10))"
   ]
  }
 ],
 "metadata": {
  "kernelspec": {
   "display_name": "Python 3 (ipykernel)",
   "language": "python",
   "name": "python3"
  },
  "language_info": {
   "codemirror_mode": {
    "name": "ipython",
    "version": 3
   },
   "file_extension": ".py",
   "mimetype": "text/x-python",
   "name": "python",
   "nbconvert_exporter": "python",
   "pygments_lexer": "ipython3",
   "version": "3.9.17"
  }
 },
 "nbformat": 4,
 "nbformat_minor": 5
}
